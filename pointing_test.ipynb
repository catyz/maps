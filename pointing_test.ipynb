{
 "cells": [
  {
   "cell_type": "code",
   "execution_count": 1,
   "id": "658d7055",
   "metadata": {},
   "outputs": [
    {
     "name": "stdout",
     "output_type": "stream",
     "text": [
      "INFO: sqlite database /data/pb2/ChileData/databases/pb2a-20211207_benchmark_dataset/pb2a_runid.db attached.\n",
      "INFO: sqlite database /data/pb2/ChileData/databases/pb2a-20211207_benchmark_dataset/pb2a_runid_g3.db attached.\n",
      "INFO: sqlite database /data/pb2/ChileData/databases/pb2a-20211207_benchmark_dataset/pb2a_data_quality.db attached.\n",
      "INFO: sqlite database /data/pb2/ChileData/databases/pb2a-20211207_benchmark_dataset/pb2a_mapping.db attached.\n",
      "INFO: sqlite database /data/pb2/ChileData/databases/pb2a-20211207_benchmark_dataset/pb2a_monitor.db attached.\n",
      "INFO: sqlite database /data/pb2/ChileData/databases/pb2a-20211207_benchmark_dataset/pb2a_stim_template.db attached.\n",
      "INFO: sqlite database /data/pb2/ChileData/databases/pb2a-20211207_benchmark_dataset/pb2a_stim_iq.db attached.\n"
     ]
    },
    {
     "name": "stderr",
     "output_type": "stream",
     "text": [
      "WARNING: sqlite database /data/pb2/ChileData/databases/pb2a-20211207_benchmark_dataset/pb2a_tuning.db does not exists. Skip.\n"
     ]
    }
   ],
   "source": [
    "import numpy as np\n",
    "import matplotlib.pyplot as plt\n",
    "import ephem \n",
    "from simons_array_python.calibration.planet import ephem_planet\n",
    "from simons_array_python import sa_ephem as sa_ephem\n",
    "import toast.qarray as qa\n",
    "from simons_array_python import sa_sql\n",
    "from toast.tod.sim_focalplane import cartesian_to_quat"
   ]
  },
  {
   "cell_type": "code",
   "execution_count": 11,
   "id": "38b23491",
   "metadata": {},
   "outputs": [],
   "source": [
    "#Convert Az/El to RA/dec using ephem\n",
    "def azel_to_radecpa(mjd, az, el):\n",
    "        observer = sa_ephem.pb2a_site()\n",
    "        ra, dec, pa = [], [], []\n",
    "        for t, a, e in zip(mjd, az, el):\n",
    "            observer.date = sa_ephem.mjd_to_ephem_date(t)\n",
    "            r, d = observer.radec_of(a, e)\n",
    "            obj = ephem.FixedBody()\n",
    "            obj._ra, obj._dec = r, d\n",
    "            obj.compute(observer)\n",
    "            ra.append(r)\n",
    "            dec.append(np.pi/2-d)\n",
    "            pa.append(-obj.parallactic_angle())\n",
    "        return np.array(ra), np.array(dec), np.array(pa)"
   ]
  },
  {
   "cell_type": "code",
   "execution_count": 54,
   "id": "e78b6d94",
   "metadata": {},
   "outputs": [],
   "source": [
    "def plot_results(det=None, det_offset_x=None, det_offset_y=None):\n",
    "    #Calculate det pntg with quats\n",
    "    if det is not None:\n",
    "        det_offset_x = sa_sql.db_impl.focalplane_db[det].det_offset_x\n",
    "        det_offset_y = sa_sql.db_impl.focalplane_db[det].det_offset_y\n",
    "    \n",
    "    print(\n",
    "        'Detector offsets x/y in degrees:',\n",
    "        det_offset_x, \n",
    "        det_offset_y)\n",
    "        \n",
    "    det_offset_quat = cartesian_to_quat([[det_offset_x, det_offset_y, 0]])[0]\n",
    "    det_pntg = qa.mult(det_offset_quat, boresight_quat)\n",
    "    theta, phi, pos = qa.to_angles(det_pntg)\n",
    "\n",
    "    #Calculate det pntg with flat sky\n",
    "    ra, dec, pa = azel_to_radecpa(times, az-(np.deg2rad(det_offset_x)/np.median(np.cos(el))) , el-np.deg2rad(det_offset_y)) \n",
    "    \n",
    "    #Plot phi with RA, dec with theta, etc\n",
    "    fig, axes = plt.subplots(3, figsize=(10,10))\n",
    "\n",
    "    axes[0].plot(phi, label='quat', alpha=0.75)\n",
    "    axes[0].plot(ra, label='flat', alpha=0.75)\n",
    "    axes[0].legend()\n",
    "\n",
    "    axes[1].plot(theta, label='quat', alpha=0.75)\n",
    "    axes[1].plot(dec, label='flat', alpha=0.75)\n",
    "    axes[1].legend()\n",
    "\n",
    "    axes[2].plot(pos, label='quat', alpha=0.75)\n",
    "    axes[2].plot(pa, label='flat', alpha=0.75)\n",
    "    axes[2].legend()\n",
    "    \n",
    "    print('Average errors in degrees',\n",
    "        np.rad2deg(np.mean(phi-ra)),\n",
    "        np.rad2deg(np.mean(theta-dec)),\n",
    "        np.rad2deg(np.mean(pos-pa))\n",
    "    )\n"
   ]
  },
  {
   "cell_type": "code",
   "execution_count": 55,
   "id": "637d63ce",
   "metadata": {},
   "outputs": [],
   "source": [
    "#Load the boresight quaternions in celestial coordinates, along with the times and telescope Az/El timestreams\n",
    "det_far = '13.11_267.90B'\n",
    "det_close = '13.13_220.90T'\n",
    "\n",
    "boresight_quat = np.load('boresight.npy')\n",
    "times = np.load('bolo_time.npy')\n",
    "az = np.load('az.npy')\n",
    "el = np.load('el.npy')"
   ]
  },
  {
   "cell_type": "code",
   "execution_count": null,
   "id": "13983928",
   "metadata": {},
   "outputs": [],
   "source": [
    "#First make sure the boresight_quats themselves agree with ephem\n",
    "ra_boresight, dec_boresight, pa_boresight = azel_to_radecpa(times, az , el) \n",
    "theta_boresight, phi_boresight, pos_boresight = qa.to_angles(boresight_quat)\n",
    "\n",
    "fig, axes = plt.subplots(3, figsize=(10,10))\n",
    "\n",
    "axes[0].plot(phi_boresight, label='quat', alpha=0.75)\n",
    "axes[0].plot(ra_boresight, label='flat', alpha=0.75)\n",
    "axes[0].legend()\n",
    "\n",
    "axes[1].plot(theta_boresight, label='quat', alpha=0.75)\n",
    "axes[1].plot(dec_boresight, label='flat', alpha=0.75)\n",
    "axes[1].legend()\n",
    "\n",
    "axes[2].plot(pos_boresight, label='quat', alpha=0.75)\n",
    "axes[2].plot(pa_boresight, label='flat', alpha=0.75)\n",
    "axes[2].legend()\n",
    "\n",
    "#Close enough?"
   ]
  },
  {
   "cell_type": "code",
   "execution_count": null,
   "id": "598f655d",
   "metadata": {},
   "outputs": [],
   "source": [
    "#Detector close to boresight\n",
    "plot_results(det_close)"
   ]
  },
  {
   "cell_type": "code",
   "execution_count": null,
   "id": "ceaffe1e",
   "metadata": {},
   "outputs": [],
   "source": [
    "#Detector far from boresight\n",
    "plot_results(det_far)"
   ]
  },
  {
   "cell_type": "code",
   "execution_count": null,
   "id": "9718c117",
   "metadata": {},
   "outputs": [],
   "source": [
    "#Try a detector opposite of the far detector\n",
    "plot_results(det_offset_x=-2.004611, det_offset_y= +1.56563)"
   ]
  },
  {
   "cell_type": "code",
   "execution_count": null,
   "id": "e2367dee",
   "metadata": {},
   "outputs": [],
   "source": []
  }
 ],
 "metadata": {
  "kernelspec": {
   "display_name": "Python 3",
   "language": "python",
   "name": "python3"
  },
  "language_info": {
   "codemirror_mode": {
    "name": "ipython",
    "version": 3
   },
   "file_extension": ".py",
   "mimetype": "text/x-python",
   "name": "python",
   "nbconvert_exporter": "python",
   "pygments_lexer": "ipython3",
   "version": "3.8.5"
  }
 },
 "nbformat": 4,
 "nbformat_minor": 5
}
