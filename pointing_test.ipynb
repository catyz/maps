{
 "cells": [
  {
   "cell_type": "code",
   "execution_count": 112,
   "id": "686c06fa",
   "metadata": {},
   "outputs": [],
   "source": [
    "import numpy as np\n",
    "import matplotlib.pyplot as plt\n",
    "import ephem \n",
    "from simons_array_python.calibration.planet import ephem_planet\n",
    "from simons_array_python import sa_ephem as sa_ephem\n",
    "import toast.qarray as qa\n",
    "from simons_array_python import sa_sql\n",
    "from toast.tod.sim_focalplane import cartesian_to_quat\n",
    "import healpy as hp"
   ]
  },
  {
   "cell_type": "code",
   "execution_count": 113,
   "id": "c1219f5e",
   "metadata": {},
   "outputs": [],
   "source": [
    "def get_boresight_quats(times, az, el):\n",
    "    # get quaternions representing the boresight pointing in azimuth/elevation\n",
    "    observer = ephem_planet.pb2a_site()\n",
    "    observer.pressure = 0\n",
    "    \n",
    "    azel_quats = qa.from_angles(\n",
    "        np.pi/2 - el,\n",
    "        -1.*az,\n",
    "        np.zeros(len(times))\n",
    "    )\n",
    "\n",
    "    lasttime = times[-1]\n",
    "    firsttime = times[0]\n",
    "\n",
    "#     #Get one every 2 minutes\n",
    "    n = max(2, 1 + int((lasttime - firsttime)* 86400/ 120))\n",
    "    my_times = np.linspace(firsttime, lasttime, n)\n",
    "\n",
    "    # compute rotation quaternions from az/el to ra/dec\n",
    "    azel2radec_quats = np.zeros([n, 4])\n",
    "    for i, t in enumerate(my_times):\n",
    "        azel2radec_quats[i] = _get_conversion_quat(t, observer)\n",
    "\n",
    "        # make sure we have a consistent branch\n",
    "        # JG: is this necessary?\n",
    "        if i > 0 and (np.sum(np.abs(azel2radec_quats[i-1] + azel2radec_quats[i]))\n",
    "                      < np.sum(np.abs(azel2radec_quats[i-1] - azel2radec_quats[i]))):\n",
    "            azel2radec_quats[i] *= -1\n",
    "\n",
    "    azel2radec_quats = qa.norm(azel2radec_quats)\n",
    "\n",
    "    azel2radec_quats = qa.slerp(times, my_times, azel2radec_quats)\n",
    "    # multiply quaternions to get the boresight pointing in equatorial coordinates\n",
    "    boresight_quats = qa.mult(azel2radec_quats, azel_quats)\n",
    "    del azel2radec_quats\n",
    "\n",
    "    # attach both kinds of quaternions to the TOD object\n",
    "    return azel_quats, boresight_quats\n",
    "\n",
    "def _get_conversion_quat(t, observer):\n",
    "    observer.date = ephem_planet.mjd_to_djd(t)\n",
    "\n",
    "    xra, xdec = observer.radec_of(0, 0)\n",
    "    yra, ydec = observer.radec_of(-np.pi/2, 0)\n",
    "    zra, zdec = observer.radec_of(0, np.pi/2)\n",
    "\n",
    "    xvec, yvec, zvec = hp.ang2vec(np.pi/2 - np.array([xdec, ydec, zdec]),\n",
    "                               np.array([xra, yra, zra]))\n",
    "\n",
    "    # Orthonormalize for numerical stability\n",
    "    xvec /= np.sqrt(np.dot(xvec, xvec))\n",
    "    yvec -= np.dot(xvec, yvec) * xvec\n",
    "    yvec /= np.sqrt(np.dot(yvec, yvec))\n",
    "    zvec -= np.dot(xvec, zvec) * xvec + np.dot(yvec, zvec) * yvec\n",
    "    zvec /= np.sqrt(np.dot(zvec, zvec))\n",
    "\n",
    "    # Solve for the quaternions from the transformed axes.\n",
    "    X = (xvec[1] + yvec[0]) / 4\n",
    "    Y = (xvec[2] + zvec[0]) / 4\n",
    "    Z = (yvec[2] + zvec[1]) / 4\n",
    "\n",
    "    d = np.sqrt(np.abs(Y * Z / X)) # Choose positive root\n",
    "    c = d * X / Y\n",
    "    b = X / c\n",
    "    a = (xvec[1]/2 - b*c) / d\n",
    "    # qarray has the scalar part as the last index\n",
    "    quat = qa.norm(np.array([b, c, d, a]))\n",
    "    # DEBUG begin\n",
    "    errors = np.array([\n",
    "        np.dot(qa.rotate(quat, [1, 0, 0]), xvec),\n",
    "        np.dot(qa.rotate(quat, [0, 1, 0]), yvec),\n",
    "        np.dot(qa.rotate(quat, [0, 0, 1]), zvec)])\n",
    "    errors[errors > 1] = 1\n",
    "    errors = np.degrees(np.arccos(errors))\n",
    "    if np.any(errors > 1) or np.any(np.isnan(errors)):\n",
    "        raise RuntimeError('Quaternion is not right: ({}), ({} {} {})'\n",
    "                           ''.format(errors, X, Y, Z))\n",
    "    # DEBUG end\n",
    "    return quat"
   ]
  },
  {
   "cell_type": "code",
   "execution_count": 114,
   "id": "72699f34",
   "metadata": {},
   "outputs": [],
   "source": [
    "#Convert Az/El to RA/dec using ephem\n",
    "def azel_to_radecpa(mjd, az, el):\n",
    "        observer = ephem_planet.pb2a_site()\n",
    "        observer.pressure = 0\n",
    "        ra, dec, pa = [], [], []\n",
    "        for t, a, e in zip(mjd, az, el):\n",
    "            observer.date = ephem_planet.mjd_to_djd(t)\n",
    "            r, d = observer.radec_of(a, e)\n",
    "            obj = ephem.FixedBody()\n",
    "            obj._ra, obj._dec = r, d\n",
    "            obj.compute(observer)\n",
    "            ra.append(r)\n",
    "            dec.append(np.pi/2-d)\n",
    "            pa.append(-obj.parallactic_angle())\n",
    "        return np.array(ra), np.array(dec), np.array(pa)"
   ]
  },
  {
   "cell_type": "code",
   "execution_count": 115,
   "id": "d2032b8e",
   "metadata": {},
   "outputs": [],
   "source": [
    "times = np.load('bolo_time.npy')\n",
    "az = np.load('az.npy')\n",
    "el = np.load('el.npy')"
   ]
  },
  {
   "cell_type": "code",
   "execution_count": 116,
   "id": "703b1481",
   "metadata": {},
   "outputs": [],
   "source": [
    "azel_quats, boresight_quats = get_boresight_quats(times, az, el) "
   ]
  },
  {
   "cell_type": "code",
   "execution_count": 118,
   "id": "e2a62a97",
   "metadata": {},
   "outputs": [
    {
     "name": "stdout",
     "output_type": "stream",
     "text": [
      "Average errors in degrees 0.007604209907513437 0.00832456013106743 0.23054277223575603\n"
     ]
    }
   ],
   "source": [
    "#First make sure the boresight_quats themselves agree with ephem\n",
    "ra_boresight, dec_boresight, pa_boresight = azel_to_radecpa(times, az , el) \n",
    "theta_boresight, phi_boresight, pos_boresight = qa.to_angles(boresight_quats)\n",
    "\n",
    "print('Average errors in degrees',\n",
    "    np.rad2deg(np.mean(phi_boresight-ra_boresight)),\n",
    "    np.rad2deg(np.mean(theta_boresight-dec_boresight)),\n",
    "    np.rad2deg(np.mean(pos_boresight-pa_boresight))\n",
    ")\n",
    "\n",
    "# fig, axes = plt.subplots(3, figsize=(15,15))\n",
    "\n",
    "# axes[0].plot(phi_boresight, label='quat', alpha=0.75)\n",
    "# axes[0].plot(ra_boresight, label='flat', alpha=0.75)\n",
    "# axes[0].legend()\n",
    "\n",
    "# axes[1].plot(theta_boresight, label='quat', alpha=0.75)\n",
    "# axes[1].plot(dec_boresight, label='flat', alpha=0.75)\n",
    "# axes[1].legend()\n",
    "\n",
    "# axes[2].plot(pos_boresight, label='quat', alpha=0.75)\n",
    "# axes[2].plot(pa_boresight, label='flat', alpha=0.75)\n",
    "# axes[2].legend()"
   ]
  },
  {
   "cell_type": "code",
   "execution_count": null,
   "id": "bec2a938",
   "metadata": {},
   "outputs": [],
   "source": []
  },
  {
   "cell_type": "code",
   "execution_count": null,
   "id": "39060283",
   "metadata": {},
   "outputs": [],
   "source": []
  },
  {
   "cell_type": "code",
   "execution_count": null,
   "id": "49f1091b",
   "metadata": {},
   "outputs": [],
   "source": []
  },
  {
   "cell_type": "code",
   "execution_count": null,
   "id": "5b10a67b",
   "metadata": {},
   "outputs": [],
   "source": []
  },
  {
   "cell_type": "code",
   "execution_count": null,
   "id": "eadb1b05",
   "metadata": {},
   "outputs": [],
   "source": []
  },
  {
   "cell_type": "code",
   "execution_count": 44,
   "id": "d44dd8c9",
   "metadata": {},
   "outputs": [],
   "source": [
    "def plot_results(det=None, det_offset_x=None, det_offset_y=None):\n",
    "    #Calculate det pntg with quats\n",
    "    if det is not None:\n",
    "        det_offset_x = sa_sql.db_impl.focalplane_db[det].det_offset_x\n",
    "        det_offset_y = sa_sql.db_impl.focalplane_db[det].det_offset_y\n",
    "    \n",
    "    print(\n",
    "        'Detector offsets x/y in degrees:',\n",
    "        det_offset_x, \n",
    "        det_offset_y)\n",
    "        \n",
    "    det_offset_quat = cartesian_to_quat([[-det_offset_y, -det_offset_x, 0]])[0]\n",
    "    det_pntg = qa.mult(boresight, det_offset_quat)\n",
    "    theta, phi, pos = qa.to_angles(det_pntg)\n",
    "    \n",
    "    #Calculate det pntg with flat sky\n",
    "    ra, dec, pa = azel_to_radecpa(times, az-(np.deg2rad(det_offset_x)/np.cos(el)) , el-np.deg2rad(det_offset_y)) \n",
    "    \n",
    "    #Plot phi with RA, dec with theta, etc\n",
    "    fig, axes = plt.subplots(3, figsize=(15,15))\n",
    "    \n",
    "    axes[0].plot(ra_boresight, label='boresight', alpha=0.75)    \n",
    "    axes[0].plot(ra, label='flat', alpha=0.75)\n",
    "    axes[0].plot(phi, label='quat', alpha=0.75)\n",
    "    axes[0].legend()\n",
    "    \n",
    "    axes[1].plot(dec_boresight, label='boresight', alpha=0.75)    \n",
    "    axes[1].plot(dec, label='flat', alpha=0.75)\n",
    "    axes[1].plot(theta, label='quat', alpha=0.75)\n",
    "    axes[1].legend()\n",
    "    \n",
    "    axes[2].plot(pa_boresight, label='boresight', alpha=0.75)    \n",
    "    axes[2].plot(pa, label='flat', alpha=0.75)\n",
    "    axes[2].plot(pos, label='quat', alpha=0.75)\n",
    "    axes[2].legend()\n",
    "    \n",
    "    plt.show()\n",
    "    \n",
    "    print('Average errors in degrees',\n",
    "        np.rad2deg(np.mean(phi-ra)),\n",
    "        np.rad2deg(np.mean(theta-dec)),\n",
    "        np.rad2deg(np.mean(pos-pa))\n",
    "    )\n"
   ]
  },
  {
   "cell_type": "code",
   "execution_count": null,
   "id": "1b1a9554",
   "metadata": {},
   "outputs": [],
   "source": [
    "det_far = '13.11_267.90B'\n",
    "det_close = '13.13_220.90T'"
   ]
  },
  {
   "cell_type": "code",
   "execution_count": null,
   "id": "8fe6c7c7",
   "metadata": {},
   "outputs": [],
   "source": [
    "# plot_results(det_close)"
   ]
  },
  {
   "cell_type": "code",
   "execution_count": null,
   "id": "670147a3",
   "metadata": {},
   "outputs": [],
   "source": [
    "plot_results(det_far)"
   ]
  },
  {
   "cell_type": "code",
   "execution_count": null,
   "id": "7f60b118",
   "metadata": {},
   "outputs": [],
   "source": []
  },
  {
   "cell_type": "code",
   "execution_count": null,
   "id": "bd591ebc",
   "metadata": {},
   "outputs": [],
   "source": []
  }
 ],
 "metadata": {
  "kernelspec": {
   "display_name": "Python 3 (ipykernel)",
   "language": "python",
   "name": "python3"
  },
  "language_info": {
   "codemirror_mode": {
    "name": "ipython",
    "version": 3
   },
   "file_extension": ".py",
   "mimetype": "text/x-python",
   "name": "python",
   "nbconvert_exporter": "python",
   "pygments_lexer": "ipython3",
   "version": "3.8.5"
  }
 },
 "nbformat": 4,
 "nbformat_minor": 5
}
