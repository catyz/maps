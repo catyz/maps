{
 "cells": [
  {
   "cell_type": "code",
   "execution_count": 1,
   "id": "aa9776fa",
   "metadata": {},
   "outputs": [
    {
     "name": "stdout",
     "output_type": "stream",
     "text": [
      "INFO: numpy.fft used.\n"
     ]
    },
    {
     "name": "stderr",
     "output_type": "stream",
     "text": [
      "/opt/pkgs/spt3g_software_sa_2019-05-13/build/spt3g/gcp/ARCExtractor.py:11: SyntaxWarning: \"is not\" with a literal. Did you mean \"!=\"?\n",
      "  if uname is not 'None':\n"
     ]
    },
    {
     "name": "stdout",
     "output_type": "stream",
     "text": [
      "INFO: sqlite database /data/pb2/ChileData/database_managed/pb2a-current_benchmark/pb2a_runid.db attached.\n",
      "INFO: sqlite database /data/pb2/ChileData/database_managed/pb2a-current_benchmark/pb2a_runid_g3.db attached.\n",
      "INFO: sqlite database /data/pb2/ChileData/database_managed/pb2a-current_benchmark/pb2a_data_quality.db attached.\n",
      "INFO: sqlite database /data/pb2/ChileData/database_managed/pb2a-current_benchmark/pb2a_mapping.db attached.\n",
      "INFO: sqlite database /data/pb2/ChileData/database_managed/pb2a-current_benchmark/pb2a_stim_iq.db attached.\n",
      "INFO: sqlite database /data/pb2/ChileData/database_managed/pb2a-current_benchmark/pb2a_tuning.db attached.\n",
      "INFO: sqlite database /data/pb2/ChileData/database_managed/pb2a-current_benchmark/pb2a_stim_template.db attached.\n"
     ]
    },
    {
     "name": "stderr",
     "output_type": "stream",
     "text": [
      "\n",
      "WARNING: version mismatch between CFITSIO header (v4.000999999999999) and linked library (v4.01).\n",
      "\n",
      "\n",
      "WARNING: version mismatch between CFITSIO header (v4.000999999999999) and linked library (v4.01).\n",
      "\n",
      "\n",
      "WARNING: version mismatch between CFITSIO header (v4.000999999999999) and linked library (v4.01).\n",
      "\n"
     ]
    }
   ],
   "source": [
    "import numpy as np\n",
    "import toast.qarray as qa\n",
    "from simons_array_python import sa_ephem\n",
    "from simons_array_python import sa_toast_pipeline_tools as sa_tpt"
   ]
  },
  {
   "cell_type": "code",
   "execution_count": 14,
   "id": "428333ea",
   "metadata": {},
   "outputs": [],
   "source": [
    "mjd = np.array([59822,59822.01])\n",
    "az = np.array([1,1.1])\n",
    "el = np.array([0.5, 0.6])"
   ]
  },
  {
   "cell_type": "code",
   "execution_count": 15,
   "id": "2b17fb29",
   "metadata": {},
   "outputs": [
    {
     "name": "stdout",
     "output_type": "stream",
     "text": [
      "[-2.21324614 -2.16673925]\n"
     ]
    }
   ],
   "source": [
    "ra, dec, pa = sa_ephem.azel_to_radecpa(mjd, az, el)\n",
    "print(pa)"
   ]
  },
  {
   "cell_type": "code",
   "execution_count": 18,
   "id": "8b262840",
   "metadata": {},
   "outputs": [],
   "source": [
    "pntg = qa.from_angles(np.pi/2-dec, ra, pa, IAU=True)"
   ]
  },
  {
   "cell_type": "code",
   "execution_count": 19,
   "id": "4a87cdff",
   "metadata": {},
   "outputs": [
    {
     "data": {
      "text/plain": [
       "array([2.21324614, 2.16673925])"
      ]
     },
     "execution_count": 19,
     "metadata": {},
     "output_type": "execute_result"
    }
   ],
   "source": [
    "sa_tpt.pa_from_quats(pntg)"
   ]
  },
  {
   "cell_type": "code",
   "execution_count": null,
   "id": "97397f3e",
   "metadata": {},
   "outputs": [],
   "source": []
  }
 ],
 "metadata": {
  "kernelspec": {
   "display_name": "Python 3 (ipykernel)",
   "language": "python",
   "name": "python3"
  },
  "language_info": {
   "codemirror_mode": {
    "name": "ipython",
    "version": 3
   },
   "file_extension": ".py",
   "mimetype": "text/x-python",
   "name": "python",
   "nbconvert_exporter": "python",
   "pygments_lexer": "ipython3",
   "version": "3.8.5"
  }
 },
 "nbformat": 4,
 "nbformat_minor": 5
}
