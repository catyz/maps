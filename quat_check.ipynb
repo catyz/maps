{
 "cells": [
  {
   "cell_type": "code",
   "execution_count": 6,
   "id": "fff2df28",
   "metadata": {},
   "outputs": [],
   "source": [
    "import numpy as np\n",
    "import toast.qarray as qa\n",
    "from simons_array_python import sa_ephem\n",
    "from simons_array_python import sa_toast_pipeline_tools as sa_tpt"
   ]
  },
  {
   "cell_type": "code",
   "execution_count": 7,
   "id": "6ef2f643",
   "metadata": {},
   "outputs": [],
   "source": [
    "mjd = np.array([59822,59822.01])\n",
    "az = np.array([1,1.1])\n",
    "el = np.array([0.5, 0.6])"
   ]
  },
  {
   "cell_type": "code",
   "execution_count": 8,
   "id": "362be718",
   "metadata": {},
   "outputs": [
    {
     "name": "stdout",
     "output_type": "stream",
     "text": [
      "[-2.21324614 -2.16673925]\n"
     ]
    }
   ],
   "source": [
    "ra, dec, pa = sa_ephem.azel_to_radecpa(mjd, az, el)\n",
    "print(pa)"
   ]
  },
  {
   "cell_type": "code",
   "execution_count": 9,
   "id": "17c95ebd",
   "metadata": {},
   "outputs": [],
   "source": [
    "pntg = qa.from_angles(np.pi/2-dec, ra, pa)"
   ]
  },
  {
   "cell_type": "code",
   "execution_count": 10,
   "id": "630eafdf",
   "metadata": {},
   "outputs": [
    {
     "data": {
      "text/plain": [
       "array([-2.21324614, -2.16673925])"
      ]
     },
     "execution_count": 10,
     "metadata": {},
     "output_type": "execute_result"
    }
   ],
   "source": [
    "sa_tpt.pa_from_quats(pntg)"
   ]
  },
  {
   "cell_type": "code",
   "execution_count": null,
   "id": "b1222575",
   "metadata": {},
   "outputs": [],
   "source": []
  }
 ],
 "metadata": {
  "kernelspec": {
   "display_name": "Python 3 (ipykernel)",
   "language": "python",
   "name": "python3"
  },
  "language_info": {
   "codemirror_mode": {
    "name": "ipython",
    "version": 3
   },
   "file_extension": ".py",
   "mimetype": "text/x-python",
   "name": "python",
   "nbconvert_exporter": "python",
   "pygments_lexer": "ipython3",
   "version": "3.8.5"
  }
 },
 "nbformat": 4,
 "nbformat_minor": 5
}
