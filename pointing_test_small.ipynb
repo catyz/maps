{
 "cells": [
  {
   "cell_type": "code",
   "execution_count": 1,
   "id": "bd103be7",
   "metadata": {},
   "outputs": [
    {
     "name": "stderr",
     "output_type": "stream",
     "text": [
      "\n",
      "WARNING: version mismatch between CFITSIO header (v4.000999999999999) and linked library (v4.01).\n",
      "\n",
      "\n",
      "WARNING: version mismatch between CFITSIO header (v4.000999999999999) and linked library (v4.01).\n",
      "\n",
      "\n",
      "WARNING: version mismatch between CFITSIO header (v4.000999999999999) and linked library (v4.01).\n",
      "\n"
     ]
    },
    {
     "name": "stdout",
     "output_type": "stream",
     "text": [
      "INFO: sqlite database /data/pb2/ChileData/databases/pb2a-20211207_benchmark_dataset/pb2a_runid.db attached.\n",
      "INFO: sqlite database /data/pb2/ChileData/databases/pb2a-20211207_benchmark_dataset/pb2a_runid_g3.db attached.\n",
      "INFO: sqlite database /data/pb2/ChileData/databases/pb2a-20211207_benchmark_dataset/pb2a_data_quality.db attached.\n",
      "INFO: sqlite database /data/pb2/ChileData/databases/pb2a-20211207_benchmark_dataset/pb2a_mapping.db attached.\n",
      "INFO: sqlite database /data/pb2/ChileData/databases/pb2a-20211207_benchmark_dataset/pb2a_monitor.db attached.\n",
      "INFO: sqlite database /data/pb2/ChileData/databases/pb2a-20211207_benchmark_dataset/pb2a_stim_template.db attached.\n",
      "INFO: sqlite database /data/pb2/ChileData/databases/pb2a-20211207_benchmark_dataset/pb2a_stim_iq.db attached.\n",
      "INFO: numpy.fft used.\n"
     ]
    },
    {
     "name": "stderr",
     "output_type": "stream",
     "text": [
      "/opt/pkgs/spt3g_software_sa_2019-05-13/build/spt3g/gcp/ARCExtractor.py:11: SyntaxWarning: \"is not\" with a literal. Did you mean \"!=\"?\n",
      "  if uname is not 'None':\n"
     ]
    }
   ],
   "source": [
    "import numpy as np\n",
    "import matplotlib.pyplot as plt\n",
    "import toast.qarray as qa\n",
    "import healpy as hp\n",
    "from scipy.spatial.transform import Rotation as R\n",
    "import ephem\n",
    "from simons_array_python.calibration.planet import ephem_planet\n",
    "from skyfield import api"
   ]
  },
  {
   "cell_type": "code",
   "execution_count": 2,
   "id": "16850b34",
   "metadata": {},
   "outputs": [],
   "source": [
    "def get_boresight_quat(input_az, input_el):\n",
    "    azel_quat = qa.from_angles(\n",
    "        np.pi/2 - input_el,\n",
    "        -1.*input_az,\n",
    "        0,\n",
    "    )\n",
    "    r_azel_quat = R.from_quat(azel_quat)\n",
    "\n",
    "    xra, xdec = observer.radec_of(0, 0)\n",
    "    yra, ydec = observer.radec_of(-np.pi/2, 0)\n",
    "    zra, zdec = observer.radec_of(0, np.pi/2)\n",
    "\n",
    "    # chain1 = radec_sampling(0, 0, observer, niter=100000)\n",
    "    # chain2 = radec_sampling(-np.pi/2, 0, observer, niter=100000)\n",
    "    # chain3 = radec_sampling(0, np.pi/2, observer, niter=100000)\n",
    "\n",
    "    # xra, xdec = chain1[-1][0:2]\n",
    "    # yra, ydec = chain2[-1][0:2]\n",
    "    # zra, zdec = chain3[-1][0:2]\n",
    "\n",
    "    # print(chain1[-1][2], chain2[-1][2], chain3[-1][2])\n",
    "\n",
    "    xvec, yvec, zvec = hp.ang2vec(np.pi/2 - np.array([xdec, ydec, zdec]),\n",
    "                               np.array([xra, yra, zra]))\n",
    "\n",
    "    xvec /= np.sqrt(np.dot(xvec, xvec))\n",
    "    yvec -= np.dot(xvec, yvec) * xvec\n",
    "    yvec /= np.sqrt(np.dot(yvec, yvec))\n",
    "    zvec -= np.dot(xvec, zvec) * xvec + np.dot(yvec, zvec) * yvec\n",
    "    zvec /= np.sqrt(np.dot(zvec, zvec))\n",
    "\n",
    "    # Solve for the quaternions from the transformed axes.\n",
    "    X = (xvec[1] + yvec[0]) / 4\n",
    "    Y = (xvec[2] + zvec[0]) / 4\n",
    "    Z = (yvec[2] + zvec[1]) / 4\n",
    "\n",
    "    d = np.sqrt(np.abs(Y * Z / X)) # Choose positive root\n",
    "    c = d * X / Y\n",
    "    b = X / c\n",
    "    a = (xvec[1]/2 - b*c) / d\n",
    "\n",
    "    # qarray has the scalar part as the last index\n",
    "    conversion_quat = qa.norm(np.array([b, c, d, a]))\n",
    "    # boresight_quat = qa.mult(conversion_quat, azel_quat)\n",
    "    # theta, phi, p = qa.to_angles(boresight_quat)\n",
    "\n",
    "    r_conversion_quat = R.from_quat(conversion_quat)\n",
    "    r_boresight = r_conversion_quat * r_azel_quat\n",
    "    return r_boresight"
   ]
  },
  {
   "cell_type": "code",
   "execution_count": 4,
   "id": "1dafc92a",
   "metadata": {},
   "outputs": [],
   "source": [
    "def radec_to_azel(ra, dec, observer):\n",
    "    obj = ephem.FixedBody()\n",
    "    obj._ra = ra\n",
    "    obj._dec = dec\n",
    "    obj._epoch = observer.epoch\n",
    "    obj.compute(observer)\n",
    "    az, el = obj.az, obj.alt\n",
    "    return az, el"
   ]
  },
  {
   "cell_type": "code",
   "execution_count": 4,
   "id": "3e76aadd",
   "metadata": {},
   "outputs": [],
   "source": [
    "def get_other_radec(ra, dec, observer):\n",
    "    obj = ephem.FixedBody()\n",
    "    obj._ra = ra\n",
    "    obj._dec = dec\n",
    "    obj._epoch = observer.epoch\n",
    "    obj.compute(observer)\n",
    "    ra, dec = obj.ra, obj.dec\n",
    "    return ra, dec"
   ]
  },
  {
   "cell_type": "code",
   "execution_count": 5,
   "id": "46704e69",
   "metadata": {},
   "outputs": [],
   "source": [
    "def get_error_angles(ra1, dec1, ra2, dec2):\n",
    "    \n",
    "    return np.arccos(np.dot(hp.ang2vec(np.pi/2-dec1, ra1), hp.ang2vec(np.pi/2-dec2, ra2)))"
   ]
  },
  {
   "cell_type": "code",
   "execution_count": 6,
   "id": "7b5054c8",
   "metadata": {},
   "outputs": [],
   "source": [
    "def radec_sampling(target_az, target_el, observer, niter=100):\n",
    "    ra_init, dec_init = observer.radec_of(target_az, target_el)\n",
    "    error = get_error_azel(ra_init, dec_init, target_az, target_el, observer)\n",
    "    chain = np.zeros((niter, 3))\n",
    "    chain[0] = np.array([ra_init, dec_init, error])\n",
    "    \n",
    "    for i in range(1, niter):\n",
    "        ra = chain[i-1][0] + np.random.normal(0, 1e-4)\n",
    "        dec = chain[i-1][1] + np.random.normal(0, 1e-4)\n",
    "\n",
    "        error = get_error_azel(ra, dec, target_az, target_el, observer)\n",
    "        if error < chain[i-1][2]:\n",
    "            chain[i] = np.array([ra, dec, error])\n",
    "        else:\n",
    "            chain[i] = chain[i-1]\n",
    "        \n",
    "    return chain"
   ]
  },
  {
   "cell_type": "code",
   "execution_count": 2,
   "id": "6c3f22de",
   "metadata": {},
   "outputs": [
    {
     "data": {
      "text/plain": [
       "<ephem.Observer date='2020/6/19 12:00:00' epoch='2000/1/1 12:00:00' lon='-67:47:10.6' lat='-22:57:28.5' elevation=5156.0m horizon=0:00:00.0 temp=15.0C pressure=0.0mBar>"
      ]
     },
     "execution_count": 2,
     "metadata": {},
     "output_type": "execute_result"
    }
   ],
   "source": [
    "observer = ephem_planet.pb2a_site()\n",
    "observer.pressure=0\n",
    "observer.date=44000\n",
    "# observer.epoch=ephem.J2000\n",
    "z = np.array([0,0,1])\n",
    "observer"
   ]
  },
  {
   "cell_type": "code",
   "execution_count": 60,
   "id": "dc253efb",
   "metadata": {},
   "outputs": [],
   "source": [
    "el = 20 * np.pi/180"
   ]
  },
  {
   "cell_type": "code",
   "execution_count": 61,
   "id": "0ff2f6ab",
   "metadata": {},
   "outputs": [],
   "source": [
    "ra1, dec1 = observer.radec_of(0,el)"
   ]
  },
  {
   "cell_type": "code",
   "execution_count": 62,
   "id": "7587291c",
   "metadata": {},
   "outputs": [],
   "source": [
    "observer.pressure=0\n",
    "ra2, dec2 = observer.radec_of(0,el)"
   ]
  },
  {
   "cell_type": "code",
   "execution_count": 63,
   "id": "dbc80633",
   "metadata": {},
   "outputs": [
    {
     "data": {
      "text/plain": [
       "156.7945712351284"
      ]
     },
     "execution_count": 63,
     "metadata": {},
     "output_type": "execute_result"
    }
   ],
   "source": [
    "np.sqrt((ra1-ra2)**2 + (dec1-dec2)**2) * 180/np.pi * 60 * 60"
   ]
  },
  {
   "cell_type": "code",
   "execution_count": 8,
   "id": "5d067f0f",
   "metadata": {},
   "outputs": [
    {
     "data": {
      "text/plain": [
       "-0.40069104906336134"
      ]
     },
     "execution_count": 8,
     "metadata": {},
     "output_type": "execute_result"
    }
   ],
   "source": [
    "observer.lat"
   ]
  },
  {
   "cell_type": "code",
   "execution_count": 26,
   "id": "fed1091d",
   "metadata": {},
   "outputs": [
    {
     "data": {
      "text/plain": [
       "-67.78628"
      ]
     },
     "execution_count": 26,
     "metadata": {},
     "output_type": "execute_result"
    }
   ],
   "source": [
    "observer.lon * 180/np.pi"
   ]
  },
  {
   "cell_type": "code",
   "execution_count": null,
   "id": "b8de52b0",
   "metadata": {},
   "outputs": [],
   "source": []
  },
  {
   "cell_type": "code",
   "execution_count": null,
   "id": "2ffd70c6",
   "metadata": {},
   "outputs": [],
   "source": []
  },
  {
   "cell_type": "code",
   "execution_count": null,
   "id": "37d2dcf4",
   "metadata": {},
   "outputs": [],
   "source": []
  },
  {
   "cell_type": "code",
   "execution_count": 27,
   "id": "6f29a3fd",
   "metadata": {},
   "outputs": [],
   "source": [
    "obj = ephem.FixedBody()\n",
    "obj._ra = 1\n",
    "obj._dec = 1\n",
    "obj._epoch = observer.epoch\n",
    "obj.compute(observer)"
   ]
  },
  {
   "cell_type": "code",
   "execution_count": 3,
   "id": "9430fc37",
   "metadata": {},
   "outputs": [
    {
     "ename": "NameError",
     "evalue": "name 'obj' is not defined",
     "output_type": "error",
     "traceback": [
      "\u001b[0;31m---------------------------------------------------------------------------\u001b[0m",
      "\u001b[0;31mNameError\u001b[0m                                 Traceback (most recent call last)",
      "Input \u001b[0;32mIn [3]\u001b[0m, in \u001b[0;36m<cell line: 1>\u001b[0;34m()\u001b[0m\n\u001b[0;32m----> 1\u001b[0m \u001b[43mobj\u001b[49m\u001b[38;5;241m.\u001b[39malt\n",
      "\u001b[0;31mNameError\u001b[0m: name 'obj' is not defined"
     ]
    }
   ],
   "source": [
    "obj.alt"
   ]
  },
  {
   "cell_type": "code",
   "execution_count": 29,
   "id": "4e47796a",
   "metadata": {},
   "outputs": [
    {
     "data": {
      "text/plain": [
       "1.0069132061741284"
      ]
     },
     "execution_count": 29,
     "metadata": {},
     "output_type": "execute_result"
    }
   ],
   "source": [
    "obj.g_ra"
   ]
  },
  {
   "cell_type": "code",
   "execution_count": 30,
   "id": "7c5fb722",
   "metadata": {},
   "outputs": [
    {
     "data": {
      "text/plain": [
       "1.0069132061741284"
      ]
     },
     "execution_count": 30,
     "metadata": {},
     "output_type": "execute_result"
    }
   ],
   "source": [
    "obj.ra"
   ]
  },
  {
   "cell_type": "code",
   "execution_count": 31,
   "id": "259d9f7f",
   "metadata": {},
   "outputs": [
    {
     "data": {
      "text/plain": [
       "(17.204585153068233, 0.18260072120089926)"
      ]
     },
     "execution_count": 31,
     "metadata": {},
     "output_type": "execute_result"
    },
    {
     "data": {
      "image/png": "[encoded data removed]",
      "text/plain": [
       "<Figure size 432x288 with 1 Axes>"
      ]
     },
     "metadata": {
      "needs_background": "light"
     },
     "output_type": "display_data"
    }
   ],
   "source": [
    "#sweep over ra/dec to see the size of the effect\n",
    "ra_sweep = np.linspace(0, 2*np.pi, 100)\n",
    "dec_sweep = np.linspace(-np.pi/2+1e-6, np.pi/2-1e-6, 100)\n",
    "\n",
    "errors = np.zeros((len(ra_sweep), len(dec_sweep)))\n",
    "for i, ra in enumerate(ra_sweep):\n",
    "    for j, dec in enumerate(dec_sweep):\n",
    "        ra1, dec1 = get_other_radec(ra, dec, observer)\n",
    "        errors[j][i] = get_error_angles(ra, dec, ra1, dec1)\n",
    "        \n",
    "X, Y = np.meshgrid(ra_sweep, dec_sweep)\n",
    "plt.pcolormesh(X, Y, errors)\n",
    "np.nanmax(errors) * 180/np.pi * 60 , np.nanmin(errors) * 180/np.pi * 60 "
   ]
  },
  {
   "cell_type": "code",
   "execution_count": 5,
   "id": "3724097d",
   "metadata": {},
   "outputs": [
    {
     "ename": "NameError",
     "evalue": "name 'other_ra' is not defined",
     "output_type": "error",
     "traceback": [
      "\u001b[0;31m---------------------------------------------------------------------------\u001b[0m",
      "\u001b[0;31mNameError\u001b[0m                                 Traceback (most recent call last)",
      "Input \u001b[0;32mIn [5]\u001b[0m, in \u001b[0;36m<cell line: 6>\u001b[0;34m()\u001b[0m\n\u001b[1;32m      8\u001b[0m         ra, dec \u001b[38;5;241m=\u001b[39m observer\u001b[38;5;241m.\u001b[39mradec_of(az, el)\n\u001b[1;32m      9\u001b[0m \u001b[38;5;66;03m#         other_ra, other_dec = get_other_radec(ra, dec, observer)\u001b[39;00m\n\u001b[0;32m---> 10\u001b[0m         other_az, other_el \u001b[38;5;241m=\u001b[39m radec_to_azel(\u001b[43mother_ra\u001b[49m, other_dec, observer)\n\u001b[1;32m     11\u001b[0m         errors[j][i] \u001b[38;5;241m=\u001b[39m get_error_angles(az, el, other_az, other_el)\n\u001b[1;32m     13\u001b[0m X, Y \u001b[38;5;241m=\u001b[39m np\u001b[38;5;241m.\u001b[39mmeshgrid(az_sweep, el_sweep)\n",
      "\u001b[0;31mNameError\u001b[0m: name 'other_ra' is not defined"
     ]
    }
   ],
   "source": [
    "#sweep over azel\n",
    "az_sweep = np.linspace(0, 2*np.pi, 100)\n",
    "el_sweep = np.linspace(-np.pi/2+1e-6, np.pi/2-1e-6, 100)\n",
    "\n",
    "errors = np.zeros((len(az_sweep), len(el_sweep)))\n",
    "for i, az in enumerate(az_sweep):\n",
    "    for j, el in enumerate(el_sweep):\n",
    "        ra, dec = observer.radec_of(az, el)\n",
    "#         other_ra, other_dec = get_other_radec(ra, dec, observer)\n",
    "        other_az, other_el = radec_to_azel(other_ra, other_dec, observer)\n",
    "        errors[j][i] = get_error_angles(az, el, other_az, other_el)\n",
    "        \n",
    "X, Y = np.meshgrid(az_sweep, el_sweep)\n",
    "plt.pcolormesh(X, Y, errors)\n",
    "np.nanmax(errors) * 180/np.pi * 60 , np.nanmin(errors) * 180/np.pi * 60 "
   ]
  },
  {
   "cell_type": "code",
   "execution_count": 33,
   "id": "e3d2b98e",
   "metadata": {},
   "outputs": [
    {
     "data": {
      "text/plain": [
       "(0.7704335568015129, 0.004995823497757312)"
      ]
     },
     "execution_count": 33,
     "metadata": {},
     "output_type": "execute_result"
    },
    {
     "data": {
      "image/png": "[encoded data removed]",
      "text/plain": [
       "<Figure size 432x288 with 1 Axes>"
      ]
     },
     "metadata": {
      "needs_background": "light"
     },
     "output_type": "display_data"
    }
   ],
   "source": [
    "#sweep over az/el to see the size of the effect\n",
    "az_sweep = np.linspace(1e-6, 2*np.pi, 100)\n",
    "el_sweep = np.linspace(-np.pi/2+1e-6, np.pi/2-1e-6, 100)\n",
    "\n",
    "errors = np.zeros((len(az_sweep), len(el_sweep)))\n",
    "for i, az in enumerate(az_sweep):\n",
    "    for j, el in enumerate(el_sweep):\n",
    "        boresight = get_boresight_quat(az, el, observer)\n",
    "        v1 = boresight.apply(z)\n",
    "        ra, dec = observer.radec_of(az, el)\n",
    "#         ra, dec = get_other_radec(ra, dec, observer)\n",
    "        v2 = hp.ang2vec(np.pi/2-dec, ra)\n",
    "        errors[j][i] = np.arccos(np.dot(v1, v2))\n",
    "        \n",
    "X, Y = np.meshgrid(az_sweep, el_sweep)\n",
    "plt.pcolormesh(X, Y, errors)\n",
    "\n",
    "np.nanmax(errors) * 180/np.pi * 60 , np.nanmin(errors) * 180/np.pi * 60"
   ]
  },
  {
   "cell_type": "code",
   "execution_count": null,
   "id": "52b1ae7d",
   "metadata": {},
   "outputs": [],
   "source": []
  },
  {
   "cell_type": "code",
   "execution_count": null,
   "id": "21b18018",
   "metadata": {},
   "outputs": [],
   "source": []
  },
  {
   "cell_type": "code",
   "execution_count": null,
   "id": "eff212ea",
   "metadata": {},
   "outputs": [],
   "source": []
  },
  {
   "cell_type": "code",
   "execution_count": null,
   "id": "4b3f3096",
   "metadata": {},
   "outputs": [],
   "source": []
  },
  {
   "cell_type": "code",
   "execution_count": null,
   "id": "946b1f01",
   "metadata": {},
   "outputs": [],
   "source": []
  }
 ],
 "metadata": {
  "kernelspec": {
   "display_name": "Python 3 (ipykernel)",
   "language": "python",
   "name": "python3"
  },
  "language_info": {
   "codemirror_mode": {
    "name": "ipython",
    "version": 3
   },
   "file_extension": ".py",
   "mimetype": "text/x-python",
   "name": "python",
   "nbconvert_exporter": "python",
   "pygments_lexer": "ipython3",
   "version": "3.8.5"
  }
 },
 "nbformat": 4,
 "nbformat_minor": 5
}
