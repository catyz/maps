{
 "cells": [
  {
   "cell_type": "code",
   "execution_count": 8,
   "id": "8d2af2c5",
   "metadata": {},
   "outputs": [],
   "source": [
    "from skyfield import api\n",
    "import ephem\n",
    "import numpy as np\n",
    "from scipy.spatial.transform import Rotation as R\n",
    "import toast.qarray as qa\n",
    "import healpy as hp\n",
    "import matplotlib.pyplot as plt"
   ]
  },
  {
   "cell_type": "code",
   "execution_count": 9,
   "id": "3ead2623",
   "metadata": {},
   "outputs": [],
   "source": [
    "def get_error_angles(ra1, dec1, ra2, dec2):\n",
    "    \n",
    "    return np.arccos(np.dot(hp.ang2vec(np.pi/2-dec1, ra1), hp.ang2vec(np.pi/2-dec2, ra2)))"
   ]
  },
  {
   "cell_type": "code",
   "execution_count": 24,
   "id": "c33e7bde",
   "metadata": {},
   "outputs": [],
   "source": [
    "input_az = 2.5\n",
    "input_el = -1\n",
    "z = np.array([0,0,1])"
   ]
  },
  {
   "cell_type": "code",
   "execution_count": 25,
   "id": "4c201519",
   "metadata": {},
   "outputs": [
    {
     "data": {
      "text/plain": [
       "44000.0"
      ]
     },
     "execution_count": 25,
     "metadata": {},
     "output_type": "execute_result"
    }
   ],
   "source": [
    "ephem.date('2020/6/19 12:00:00')"
   ]
  },
  {
   "cell_type": "code",
   "execution_count": 26,
   "id": "70b7dfce",
   "metadata": {},
   "outputs": [
    {
     "data": {
      "text/plain": [
       "<ephem.Observer date='2020/6/19 12:00:00' epoch='1873/3/16 12:00:00' lon='-67:47:10.6' lat='-22:57:28.5' elevation=5156.0m horizon=0:00:00.0 temp=15.0C pressure=0.0mBar>"
      ]
     },
     "execution_count": 26,
     "metadata": {},
     "output_type": "execute_result"
    }
   ],
   "source": [
    "noeffects_observer = ephem.Observer()\n",
    "noeffects_observer.pressure=0\n",
    "noeffects_observer.lon='-67:47:10.6' \n",
    "noeffects_observer.lat='-22:57:28.5' \n",
    "noeffects_observer.elevation=5156.0\n",
    "noeffects_observer.date=44000\n",
    "noeffects_observer.epoch = -9786\n",
    "noeffects_observer"
   ]
  },
  {
   "cell_type": "code",
   "execution_count": 27,
   "id": "38a22bda",
   "metadata": {},
   "outputs": [
    {
     "data": {
      "text/plain": [
       "<ephem.Observer date='2020/6/19 12:00:00' epoch='2000/1/1 12:00:00' lon='-67:47:10.6' lat='-22:57:28.5' elevation=5156.0m horizon=0:00:00.0 temp=15.0C pressure=0.0mBar>"
      ]
     },
     "execution_count": 27,
     "metadata": {},
     "output_type": "execute_result"
    }
   ],
   "source": [
    "effects_observer = ephem.Observer()\n",
    "effects_observer.pressure=0\n",
    "effects_observer.lon='-67:47:10.6' \n",
    "effects_observer.lat='-22:57:28.5' \n",
    "effects_observer.elevation=5156.0\n",
    "effects_observer.date=44000\n",
    "effects_observer.epoch = ephem.J2000\n",
    "effects_observer"
   ]
  },
  {
   "cell_type": "code",
   "execution_count": null,
   "id": "e10c0d3f",
   "metadata": {},
   "outputs": [],
   "source": []
  },
  {
   "cell_type": "code",
   "execution_count": 28,
   "id": "63ab65ab",
   "metadata": {},
   "outputs": [
    {
     "data": {
      "text/plain": [
       "(17.205900760107358, 0.2709146583112825)"
      ]
     },
     "execution_count": 28,
     "metadata": {},
     "output_type": "execute_result"
    },
    {
     "data": {
      "image/png": "[encoded data removed]",
      "text/plain": [
       "<Figure size 432x288 with 1 Axes>"
      ]
     },
     "metadata": {
      "needs_background": "light"
     },
     "output_type": "display_data"
    }
   ],
   "source": [
    "#sweep over azel\n",
    "az_sweep = np.linspace(0, 2*np.pi, 100)\n",
    "el_sweep = np.linspace(-np.pi/2, np.pi/2, 100)\n",
    "\n",
    "errors = np.zeros((len(az_sweep), len(el_sweep)))\n",
    "for i, az in enumerate(az_sweep):\n",
    "    for j, el in enumerate(el_sweep):\n",
    "        ra, dec = effects_observer.radec_of(az, el)\n",
    "        ra1, dec1 = noeffects_observer.radec_of(az, el)\n",
    "        errors[j][i] = get_error_angles(ra, dec, ra1, dec1)\n",
    "        \n",
    "X, Y = np.meshgrid(az_sweep, el_sweep)\n",
    "plt.pcolormesh(X, Y, errors)\n",
    "np.nanmax(errors) * 180/np.pi * 60 , np.nanmin(errors) * 180/np.pi * 60 "
   ]
  },
  {
   "cell_type": "code",
   "execution_count": 29,
   "id": "0d677bcb",
   "metadata": {},
   "outputs": [
    {
     "name": "stdout",
     "output_type": "stream",
     "text": [
      "12:05:52.64 -4:02:03.5\n"
     ]
    }
   ],
   "source": [
    "target_ra, target_dec = noeffects_observer.radec_of(input_az, input_el)\n",
    "print(target_ra, target_dec)"
   ]
  },
  {
   "cell_type": "code",
   "execution_count": 30,
   "id": "97dd62a8",
   "metadata": {},
   "outputs": [
    {
     "name": "stdout",
     "output_type": "stream",
     "text": [
      "12:04:50.65 -3:55:18.7\n"
     ]
    }
   ],
   "source": [
    "target_ra, target_dec = effects_observer.radec_of(input_az, input_el)\n",
    "print(target_ra, target_dec)"
   ]
  },
  {
   "cell_type": "code",
   "execution_count": 105,
   "id": "a35a4061",
   "metadata": {},
   "outputs": [],
   "source": [
    "azel_quat = qa.from_angles(\n",
    "    np.pi/2 - input_el,\n",
    "    -1.*input_az,\n",
    "    0,\n",
    ")\n",
    "r_azel_quat = R.from_quat(azel_quat)\n",
    "\n",
    "xra, xdec = effects_observer.radec_of(0, 0)\n",
    "yra, ydec = effects_observer.radec_of(-np.pi/2, 0)\n",
    "zra, zdec = effects_observer.radec_of(0, np.pi/2)\n",
    "\n",
    "xvec, yvec, zvec = hp.ang2vec(np.pi/2 - np.array([xdec, ydec, zdec]),\n",
    "                           np.array([xra, yra, zra]))\n",
    "\n",
    "xvec /= np.sqrt(np.dot(xvec, xvec))\n",
    "yvec -= np.dot(xvec, yvec) * xvec\n",
    "yvec /= np.sqrt(np.dot(yvec, yvec))\n",
    "zvec -= np.dot(xvec, zvec) * xvec + np.dot(yvec, zvec) * yvec\n",
    "zvec /= np.sqrt(np.dot(zvec, zvec))\n",
    "\n",
    "# Solve for the quaternions from the transformed axes.\n",
    "X = (xvec[1] + yvec[0]) / 4\n",
    "Y = (xvec[2] + zvec[0]) / 4\n",
    "Z = (yvec[2] + zvec[1]) / 4\n",
    "\n",
    "d = np.sqrt(np.abs(Y * Z / X)) # Choose positive root\n",
    "c = d * X / Y\n",
    "b = X / c\n",
    "a = (xvec[1]/2 - b*c) / d\n",
    "\n",
    "# qarray has the scalar part as the last index\n",
    "conversion_quat = qa.norm(np.array([b, c, d, a]))\n",
    "# boresight_quat = qa.mult(conversion_quat, azel_quat)\n",
    "# theta, phi, p = qa.to_angles(boresight_quat)\n",
    "\n",
    "r_conversion_quat = R.from_quat(conversion_quat)\n",
    "r_boresight = r_conversion_quat * r_azel_quat"
   ]
  },
  {
   "cell_type": "code",
   "execution_count": 106,
   "id": "c3e57f08",
   "metadata": {},
   "outputs": [
    {
     "data": {
      "text/plain": [
       "(array([ 0.45640047,  0.51207246, -0.72765404]),\n",
       " array([ 0.45540545,  0.51417611, -0.72679351]))"
      ]
     },
     "execution_count": 106,
     "metadata": {},
     "output_type": "execute_result"
    }
   ],
   "source": [
    "r_boresight.apply(z), hp.ang2vec(np.pi/2-target_dec, target_ra)"
   ]
  },
  {
   "cell_type": "code",
   "execution_count": 107,
   "id": "7b7ebf72",
   "metadata": {},
   "outputs": [
    {
     "data": {
      "text/plain": [
       "511.76660103386973"
      ]
     },
     "execution_count": 107,
     "metadata": {},
     "output_type": "execute_result"
    }
   ],
   "source": [
    "np.arccos(np.dot(r_boresight.apply(z), hp.ang2vec(np.pi/2-target_dec, target_ra))) * 180/np.pi * 60 *60"
   ]
  },
  {
   "cell_type": "code",
   "execution_count": 42,
   "id": "038c44d7",
   "metadata": {},
   "outputs": [],
   "source": [
    "# theta, phi, p"
   ]
  },
  {
   "cell_type": "code",
   "execution_count": 43,
   "id": "c56ecc84",
   "metadata": {},
   "outputs": [],
   "source": [
    "obj = ephem.FixedBody()\n",
    "obj._ra = target_ra\n",
    "obj._dec = target_dec\n",
    "obj._epoch = -9786\n",
    "\n",
    "obj.compute(ephem_observer)"
   ]
  },
  {
   "cell_type": "code",
   "execution_count": 44,
   "id": "ddcd1d77",
   "metadata": {},
   "outputs": [
    {
     "data": {
      "text/plain": [
       "-1.3143454025003036"
      ]
     },
     "execution_count": 44,
     "metadata": {},
     "output_type": "execute_result"
    }
   ],
   "source": [
    "(obj.parallactic_angle() + p) "
   ]
  },
  {
   "cell_type": "code",
   "execution_count": 78,
   "id": "dc11adfe",
   "metadata": {},
   "outputs": [
    {
     "data": {
      "text/plain": [
       "(0.8431006434732393, -0.8149841438997636)"
      ]
     },
     "execution_count": 78,
     "metadata": {},
     "output_type": "execute_result"
    }
   ],
   "source": [
    "effects_observer.radec_of(2.5, 1)"
   ]
  },
  {
   "cell_type": "code",
   "execution_count": 79,
   "id": "b2cfd60c",
   "metadata": {},
   "outputs": [
    {
     "data": {
      "text/plain": [
       "(0.8459385454733988, -0.8136419868337379)"
      ]
     },
     "execution_count": 79,
     "metadata": {},
     "output_type": "execute_result"
    }
   ],
   "source": [
    "noeffects_observer.radec_of(2.5, 1)"
   ]
  },
  {
   "cell_type": "code",
   "execution_count": 83,
   "id": "dd78c774",
   "metadata": {},
   "outputs": [
    {
     "data": {
      "text/plain": [
       "<ephem.Observer date='2020/6/19 12:00:00' epoch='2000/1/1 12:00:00' lon='-67:47:10.6' lat='-22:57:28.5' elevation=5156.0m horizon=0:00:00.0 temp=15.0C pressure=0.0mBar>"
      ]
     },
     "execution_count": 83,
     "metadata": {},
     "output_type": "execute_result"
    }
   ],
   "source": [
    "effects_observer"
   ]
  },
  {
   "cell_type": "code",
   "execution_count": 84,
   "id": "66cd8e3e",
   "metadata": {},
   "outputs": [
    {
     "data": {
      "text/plain": [
       "<ephem.Observer date='2020/6/19 12:00:00' epoch='1873/3/16 12:00:00' lon='-67:47:10.6' lat='-22:57:28.5' elevation=5156.0m horizon=0:00:00.0 temp=15.0C pressure=0.0mBar>"
      ]
     },
     "execution_count": 84,
     "metadata": {},
     "output_type": "execute_result"
    }
   ],
   "source": [
    "noeffects_observer"
   ]
  },
  {
   "cell_type": "code",
   "execution_count": 21,
   "id": "a9495088",
   "metadata": {},
   "outputs": [
    {
     "data": {
      "text/plain": [
       "'2020-06-19 12:00:00 TT'"
      ]
     },
     "execution_count": 21,
     "metadata": {},
     "output_type": "execute_result"
    }
   ],
   "source": [
    "ts = api.load.timescale()\n",
    "t = ts.tt_jd(2415020.0 + 44000)\n",
    "t.tt_strftime()"
   ]
  },
  {
   "cell_type": "code",
   "execution_count": 22,
   "id": "0e350a58",
   "metadata": {},
   "outputs": [
    {
     "data": {
      "text/plain": [
       "<GeographicPosition WGS84 latitude -22.9579 N longitude -67.7863 E elevation 5156.0 m>"
      ]
     },
     "execution_count": 22,
     "metadata": {},
     "output_type": "execute_result"
    }
   ],
   "source": [
    "observer = api.wgs84.latlon(latitude_degrees = -22.957906, longitude_degrees=-67.78628, elevation_m = 5156)\n",
    "observer\n",
    "\n",
    "# observer.refract(altitude_degrees=0, temperature_C=0, pressure_mbar=0)"
   ]
  },
  {
   "cell_type": "code",
   "execution_count": 69,
   "id": "371cab3f",
   "metadata": {},
   "outputs": [],
   "source": [
    "from skyfield import units"
   ]
  },
  {
   "cell_type": "code",
   "execution_count": 114,
   "id": "f2fca9ab",
   "metadata": {},
   "outputs": [
    {
     "data": {
      "text/plain": [
       "(<Angle 06h 09m 22.82s>, <Angle -56deg 32' 48.7\">)"
      ]
     },
     "execution_count": 114,
     "metadata": {},
     "output_type": "execute_result"
    }
   ],
   "source": [
    "pos = observer.at(t).from_altaz(alt_degrees = input_el*180/np.pi, az_degrees = input_az*180/np.pi)\n",
    "pos.speed = units.Velocity(au_per_d=100)\n",
    "pos.distance = units.Distance(au= 1e13)\n",
    "target_ra, target_dec, _ = pos.radec(epoch=None)\n",
    "target_ra, target_dec"
   ]
  },
  {
   "cell_type": "code",
   "execution_count": 115,
   "id": "17e38bcb",
   "metadata": {},
   "outputs": [
    {
     "data": {
      "text/plain": [
       "(<Angle 06h 09m 22.82s>, <Angle -56deg 32' 48.7\">)"
      ]
     },
     "execution_count": 115,
     "metadata": {},
     "output_type": "execute_result"
    }
   ],
   "source": [
    "pos = observer.at(t).from_altaz(alt_degrees = input_el*180/np.pi, az_degrees = input_az*180/np.pi)\n",
    "pos.speed = units.Velocity(au_per_d=0)\n",
    "pos.distance = units.Distance(au= 0.1)\n",
    "target_ra, target_dec, _ = pos.radec(epoch=None)\n",
    "target_ra, target_dec"
   ]
  },
  {
   "cell_type": "code",
   "execution_count": 39,
   "id": "7efc253e",
   "metadata": {},
   "outputs": [],
   "source": [
    "azel_quat = qa.from_angles(\n",
    "    np.pi/2 - input_el,\n",
    "    -1.*input_az,\n",
    "    0,\n",
    ")\n",
    "r_azel_quat = R.from_quat(azel_quat)\n",
    "\n",
    "xra, xdec, _ = observer.at(t).from_altaz(alt_degrees = 0, az_degrees = 0).radec(epoch=ts.J2000)\n",
    "yra, ydec, _ = observer.at(t).from_altaz(alt_degrees = 0, az_degrees = -90).radec(epoch=ts.J2000)\n",
    "zra, zdec, _ = observer.at(t).from_altaz(alt_degrees = 90, az_degrees = 0).radec(epoch=ts.J2000)\n",
    "\n",
    "xvec, yvec, zvec = hp.ang2vec(np.pi/2 - np.array([xdec.radians, ydec.radians, zdec.radians]),\n",
    "                           np.array([xra.radians, yra.radians, zra.radians]))\n",
    "\n",
    "xvec /= np.sqrt(np.dot(xvec, xvec))\n",
    "yvec -= np.dot(xvec, yvec) * xvec\n",
    "yvec /= np.sqrt(np.dot(yvec, yvec))\n",
    "zvec -= np.dot(xvec, zvec) * xvec + np.dot(yvec, zvec) * yvec\n",
    "zvec /= np.sqrt(np.dot(zvec, zvec))\n",
    "\n",
    "# Solve for the quaternions from the transformed axes.\n",
    "X = (xvec[1] + yvec[0]) / 4\n",
    "Y = (xvec[2] + zvec[0]) / 4\n",
    "Z = (yvec[2] + zvec[1]) / 4\n",
    "\n",
    "d = np.sqrt(np.abs(Y * Z / X)) # Choose positive root\n",
    "c = d * X / Y\n",
    "b = X / c\n",
    "a = (xvec[1]/2 - b*c) / d\n",
    "\n",
    "# qarray has the scalar part as the last index\n",
    "conversion_quat = qa.norm(np.array([b, c, d, a]))\n",
    "# boresight_quat = qa.mult(conversion_quat, azel_quat)\n",
    "# theta, phi, p = qa.to_angles(boresight_quat)\n",
    "\n",
    "r_conversion_quat = R.from_quat(conversion_quat)\n",
    "r_boresight = r_conversion_quat * r_azel_quat"
   ]
  },
  {
   "cell_type": "code",
   "execution_count": 40,
   "id": "a3becfbd",
   "metadata": {},
   "outputs": [
    {
     "data": {
      "text/plain": [
       "(array([-0.02254472,  0.5507713 , -0.83435167]),\n",
       " array([-0.02254472,  0.5507713 , -0.83435167]))"
      ]
     },
     "execution_count": 40,
     "metadata": {},
     "output_type": "execute_result"
    }
   ],
   "source": [
    "result1 = r_boresight.apply(z)\n",
    "result2 = hp.ang2vec(np.pi/2-target_dec.radians, target_ra.radians)\n",
    "result1, result2"
   ]
  },
  {
   "cell_type": "code",
   "execution_count": 41,
   "id": "eae2804d",
   "metadata": {},
   "outputs": [
    {
     "name": "stderr",
     "output_type": "stream",
     "text": [
      "/tmp/ipykernel_11797/1043551866.py:1: RuntimeWarning: invalid value encountered in arccos\n",
      "  np.arccos(np.dot(r_boresight.apply(z), hp.ang2vec(np.pi/2-target_dec.radians, target_ra.radians))) * 180/np.pi * 60 *60\n"
     ]
    },
    {
     "data": {
      "text/plain": [
       "nan"
      ]
     },
     "execution_count": 41,
     "metadata": {},
     "output_type": "execute_result"
    }
   ],
   "source": [
    "np.arccos(np.dot(r_boresight.apply(z), hp.ang2vec(np.pi/2-target_dec.radians, target_ra.radians))) * 180/np.pi * 60 *60"
   ]
  },
  {
   "cell_type": "code",
   "execution_count": null,
   "id": "e0a5add4",
   "metadata": {},
   "outputs": [],
   "source": []
  }
 ],
 "metadata": {
  "kernelspec": {
   "display_name": "Python 3 (ipykernel)",
   "language": "python",
   "name": "python3"
  },
  "language_info": {
   "codemirror_mode": {
    "name": "ipython",
    "version": 3
   },
   "file_extension": ".py",
   "mimetype": "text/x-python",
   "name": "python",
   "nbconvert_exporter": "python",
   "pygments_lexer": "ipython3",
   "version": "3.8.5"
  }
 },
 "nbformat": 4,
 "nbformat_minor": 5
}
