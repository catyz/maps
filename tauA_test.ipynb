{
 "cells": [
  {
   "cell_type": "code",
   "execution_count": 1,
   "id": "a1db4a64",
   "metadata": {},
   "outputs": [
    {
     "name": "stderr",
     "output_type": "stream",
     "text": [
      "\n",
      "WARNING: version mismatch between CFITSIO header (v4.000999999999999) and linked library (v4.01).\n",
      "\n",
      "\n",
      "WARNING: version mismatch between CFITSIO header (v4.000999999999999) and linked library (v4.01).\n",
      "\n",
      "\n",
      "WARNING: version mismatch between CFITSIO header (v4.000999999999999) and linked library (v4.01).\n",
      "\n"
     ]
    },
    {
     "name": "stdout",
     "output_type": "stream",
     "text": [
      "INFO: sqlite database /data/pb2/ChileData/databases/pb2a-20211207_benchmark_dataset/pb2a_runid.db attached.\n",
      "INFO: sqlite database /data/pb2/ChileData/databases/pb2a-20211207_benchmark_dataset/pb2a_runid_g3.db attached.\n",
      "INFO: sqlite database /data/pb2/ChileData/databases/pb2a-20211207_benchmark_dataset/pb2a_data_quality.db attached.\n",
      "INFO: sqlite database /data/pb2/ChileData/databases/pb2a-20211207_benchmark_dataset/pb2a_mapping.db attached.\n",
      "INFO: sqlite database /data/pb2/ChileData/databases/pb2a-20211207_benchmark_dataset/pb2a_monitor.db attached.\n",
      "INFO: sqlite database /data/pb2/ChileData/databases/pb2a-20211207_benchmark_dataset/pb2a_stim_template.db attached.\n",
      "INFO: sqlite database /data/pb2/ChileData/databases/pb2a-20211207_benchmark_dataset/pb2a_stim_iq.db attached.\n",
      "INFO: numpy.fft used.\n"
     ]
    },
    {
     "name": "stderr",
     "output_type": "stream",
     "text": [
      "/opt/pkgs/spt3g_software_sa_2019-05-13/build/spt3g/gcp/ARCExtractor.py:11: SyntaxWarning: \"is not\" with a literal. Did you mean \"!=\"?\n",
      "  if uname is not 'None':\n"
     ]
    }
   ],
   "source": [
    "import numpy as np\n",
    "import matplotlib.pyplot as plt\n",
    "import healpy as hp\n",
    "from simons_array_python.calibration.planet import ephem_planet\n",
    "import ephem"
   ]
  },
  {
   "cell_type": "code",
   "execution_count": 2,
   "id": "64f206d0",
   "metadata": {},
   "outputs": [],
   "source": [
    "def get_error_angle(ra1, dec1, ra2, dec2):\n",
    "    \n",
    "    return np.arccos(np.dot(hp.ang2vec(np.pi/2-dec1, ra1), hp.ang2vec(np.pi/2-dec2, ra2)))"
   ]
  },
  {
   "cell_type": "markdown",
   "id": "f305e726",
   "metadata": {},
   "source": [
    "## Reproducing your result:"
   ]
  },
  {
   "cell_type": "code",
   "execution_count": 3,
   "id": "68ed00c0",
   "metadata": {},
   "outputs": [
    {
     "data": {
      "text/plain": [
       "<ephem.Observer date='2023/3/16 12:00:00' epoch='2000/1/1 12:00:00' lon='-67:47:10.6' lat='-22:57:28.5' elevation=5156.0m horizon=0:00:00.0 temp=15.0C pressure=1010.0mBar>"
      ]
     },
     "execution_count": 3,
     "metadata": {},
     "output_type": "execute_result"
    }
   ],
   "source": [
    "observer = ephem_planet.pb2a_site()\n",
    "observer.date=45000 #Random date\n",
    "observer"
   ]
  },
  {
   "cell_type": "code",
   "execution_count": 4,
   "id": "c82bfe8f",
   "metadata": {},
   "outputs": [
    {
     "name": "stdout",
     "output_type": "stream",
     "text": [
      "5:34:31.00\n",
      "22:01:18.0\n",
      "2000/1/1 00:00:00\n"
     ]
    }
   ],
   "source": [
    "taua = ephem_planet.source_lookup('taua')\n",
    "print(taua._ra)\n",
    "print(taua._dec)\n",
    "print(taua._epoch)"
   ]
  },
  {
   "cell_type": "code",
   "execution_count": 5,
   "id": "33766acc",
   "metadata": {},
   "outputs": [],
   "source": [
    "taua.compute(observer)\n",
    "az, el = taua.az, taua.alt\n",
    "ra, dec = taua.ra, taua.dec"
   ]
  },
  {
   "cell_type": "code",
   "execution_count": 6,
   "id": "e46e4b1b",
   "metadata": {},
   "outputs": [],
   "source": [
    "recon_ra, recon_dec = observer.radec_of(az, el)"
   ]
  },
  {
   "cell_type": "code",
   "execution_count": 7,
   "id": "74964e43",
   "metadata": {},
   "outputs": [
    {
     "name": "stdout",
     "output_type": "stream",
     "text": [
      "0.32149425218839295 degrees\n"
     ]
    }
   ],
   "source": [
    "print(get_error_angle(ra, dec, recon_ra, recon_dec) * 180/np.pi, 'degrees')"
   ]
  },
  {
   "cell_type": "markdown",
   "id": "591d6fa0",
   "metadata": {},
   "source": [
    "#### I believe this is consistent with the error you quoted, ~0.3 degrees. The issue is because we're not being consistent with the coordinate system. We need both to either be astrometric, or apparent. In the above code, \"Taua_ra\" returns apparent coordinates and \"radec_of\" returns astrometric, which should not be compared"
   ]
  },
  {
   "cell_type": "markdown",
   "id": "60c4a357",
   "metadata": {},
   "source": [
    "## Repeat of calculation in astrometric coordinates:"
   ]
  },
  {
   "cell_type": "code",
   "execution_count": 8,
   "id": "dca59365",
   "metadata": {},
   "outputs": [
    {
     "data": {
      "text/plain": [
       "<ephem.Observer date='2023/3/16 12:00:00' epoch='2023/3/16 12:00:00' lon='-67:47:10.6' lat='-22:57:28.5' elevation=5156.0m horizon=0:00:00.0 temp=15.0C pressure=1010.0mBar>"
      ]
     },
     "execution_count": 8,
     "metadata": {},
     "output_type": "execute_result"
    }
   ],
   "source": [
    "observer = ephem_planet.pb2a_site()\n",
    "observer.date=45000 #Random date\n",
    "observer.epoch=observer.date #Set the epoch of date\n",
    "observer"
   ]
  },
  {
   "cell_type": "code",
   "execution_count": 9,
   "id": "fdf75b4d",
   "metadata": {},
   "outputs": [],
   "source": [
    "taua.compute(observer)\n",
    "az, el = taua.az, taua.alt\n",
    "ra, dec = taua.a_ra, taua.a_dec #Since radec_of returns astrometric coordinates, we should compare with astrometric instead of apparent"
   ]
  },
  {
   "cell_type": "code",
   "execution_count": 10,
   "id": "fe584673",
   "metadata": {},
   "outputs": [],
   "source": [
    "recon_ra, recon_dec = observer.radec_of(az, el)"
   ]
  },
  {
   "cell_type": "code",
   "execution_count": 11,
   "id": "9d7d30e1",
   "metadata": {},
   "outputs": [
    {
     "name": "stdout",
     "output_type": "stream",
     "text": [
      "0.011903944008107542 arcseconds\n"
     ]
    }
   ],
   "source": [
    "print(get_error_angle(ra, dec, recon_ra, recon_dec) * 180/np.pi * 60 * 60, 'arcseconds')"
   ]
  },
  {
   "cell_type": "markdown",
   "id": "86c25b3a",
   "metadata": {},
   "source": [
    "## Repeat of calculation in apparent coordinates:"
   ]
  },
  {
   "cell_type": "code",
   "execution_count": 12,
   "id": "2fe32cf0",
   "metadata": {},
   "outputs": [
    {
     "data": {
      "text/plain": [
       "<ephem.Observer date='2023/3/16 12:00:00' epoch='1873/3/16 12:00:00' lon='-67:47:10.6' lat='-22:57:28.5' elevation=5156.0m horizon=0:00:00.0 temp=15.0C pressure=1010.0mBar>"
      ]
     },
     "execution_count": 12,
     "metadata": {},
     "output_type": "execute_result"
    }
   ],
   "source": [
    "observer = ephem_planet.pb2a_site()\n",
    "observer.date=45000 #Random date\n",
    "observer.epoch=-9786 #Returns apparent ra/dec\n",
    "observer"
   ]
  },
  {
   "cell_type": "code",
   "execution_count": 13,
   "id": "d66dc2a1",
   "metadata": {},
   "outputs": [],
   "source": [
    "taua.compute(observer)\n",
    "az, el = taua.az, taua.alt\n",
    "ra, dec = taua.ra, taua.dec #Apparent ra/dec"
   ]
  },
  {
   "cell_type": "code",
   "execution_count": 14,
   "id": "1100b317",
   "metadata": {},
   "outputs": [],
   "source": [
    "recon_ra, recon_dec = observer.radec_of(az, el)"
   ]
  },
  {
   "cell_type": "code",
   "execution_count": 15,
   "id": "56ebc584",
   "metadata": {},
   "outputs": [
    {
     "name": "stdout",
     "output_type": "stream",
     "text": [
      "0.011903944008107542 arcseconds\n"
     ]
    }
   ],
   "source": [
    "print(get_error_angle(ra, dec, recon_ra, recon_dec) * 180/np.pi * 60 * 60, 'arcseconds')"
   ]
  },
  {
   "cell_type": "code",
   "execution_count": null,
   "id": "72eb77f5",
   "metadata": {},
   "outputs": [],
   "source": []
  }
 ],
 "metadata": {
  "kernelspec": {
   "display_name": "Python 3 (ipykernel)",
   "language": "python",
   "name": "python3"
  },
  "language_info": {
   "codemirror_mode": {
    "name": "ipython",
    "version": 3
   },
   "file_extension": ".py",
   "mimetype": "text/x-python",
   "name": "python",
   "nbconvert_exporter": "python",
   "pygments_lexer": "ipython3",
   "version": "3.8.5"
  }
 },
 "nbformat": 4,
 "nbformat_minor": 5
}
