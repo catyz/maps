{
 "cells": [
  {
   "cell_type": "code",
   "execution_count": 49,
   "id": "a32668b5",
   "metadata": {},
   "outputs": [],
   "source": [
    "from pyslalib import slalib\n",
    "import numpy as np\n",
    "import matplotlib.pyplot as plt"
   ]
  },
  {
   "cell_type": "code",
   "execution_count": 118,
   "id": "34bbea60",
   "metadata": {},
   "outputs": [],
   "source": [
    "def refract(el, ghz):\n",
    "    wl = 3e14/(ghz*1e9)\n",
    "#     print(wl)\n",
    "    hm = 5156 #m\n",
    "    tdk = 288.15 #k\n",
    "    pmb = 1010 #mb\n",
    "    rh = 0.1 #relative 0-1\n",
    "    phi = -0.40069104906336134 #lat in radian\n",
    "    tlr = 0.0065\n",
    "    eps = 1e-8\n",
    "    \n",
    "    a, b= slalib.sla_refco(hm,\n",
    "                            tdk,\n",
    "                            pmb,\n",
    "                            rh,\n",
    "                            wl,\n",
    "                            phi,\n",
    "                            tlr,\n",
    "                            eps)\n",
    "\n",
    "    return (a*np.tan(np.pi/2-el) + b*np.tan(np.pi/2-el)**3 ) * 180/np.pi * 60 * 60"
   ]
  },
  {
   "cell_type": "code",
   "execution_count": 138,
   "id": "41b59032",
   "metadata": {},
   "outputs": [],
   "source": [
    "el = 20 * np.pi/180"
   ]
  },
  {
   "cell_type": "code",
   "execution_count": 139,
   "id": "604e1597",
   "metadata": {},
   "outputs": [
    {
     "data": {
      "text/plain": [
       "157.21399908831378"
      ]
     },
     "execution_count": 139,
     "metadata": {},
     "output_type": "execute_result"
    }
   ],
   "source": [
    "refract(el, 90)"
   ]
  },
  {
   "cell_type": "code",
   "execution_count": null,
   "id": "226f5886",
   "metadata": {},
   "outputs": [],
   "source": []
  }
 ],
 "metadata": {
  "kernelspec": {
   "display_name": "Python 3 (ipykernel)",
   "language": "python",
   "name": "python3"
  },
  "language_info": {
   "codemirror_mode": {
    "name": "ipython",
    "version": 3
   },
   "file_extension": ".py",
   "mimetype": "text/x-python",
   "name": "python",
   "nbconvert_exporter": "python",
   "pygments_lexer": "ipython3",
   "version": "3.8.5"
  }
 },
 "nbformat": 4,
 "nbformat_minor": 5
}
