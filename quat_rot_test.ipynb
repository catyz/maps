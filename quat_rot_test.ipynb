{
 "cells": [
  {
   "cell_type": "code",
   "execution_count": 1,
   "id": "c3574885",
   "metadata": {},
   "outputs": [
    {
     "name": "stderr",
     "output_type": "stream",
     "text": [
      "\n",
      "WARNING: version mismatch between CFITSIO header (v4.000999999999999) and linked library (v4.01).\n",
      "\n",
      "\n",
      "WARNING: version mismatch between CFITSIO header (v4.000999999999999) and linked library (v4.01).\n",
      "\n",
      "\n",
      "WARNING: version mismatch between CFITSIO header (v4.000999999999999) and linked library (v4.01).\n",
      "\n"
     ]
    }
   ],
   "source": [
    "import numpy as np\n",
    "import matplotlib.pyplot as plt\n",
    "import toast.qarray as qa\n",
    "from toast.tod.sim_focalplane import cartesian_to_quat"
   ]
  },
  {
   "cell_type": "code",
   "execution_count": 8,
   "id": "1c66c97c",
   "metadata": {},
   "outputs": [],
   "source": [
    "az_boresight = 25 * np.pi/180\n",
    "el_boresight = 51 * np.pi/180"
   ]
  },
  {
   "cell_type": "code",
   "execution_count": 18,
   "id": "f6d86102",
   "metadata": {},
   "outputs": [],
   "source": [
    "det_offset_x = -1.7 * np.pi/180 \n",
    "det_offset_y = 1.8 * np.pi/180"
   ]
  },
  {
   "cell_type": "code",
   "execution_count": 19,
   "id": "758c9cfc",
   "metadata": {},
   "outputs": [
    {
     "name": "stdout",
     "output_type": "stream",
     "text": [
      "22.298673260588227 52.8\n"
     ]
    }
   ],
   "source": [
    "az_det = az_boresight + det_offset_x/np.cos(el_boresight)\n",
    "el_det = el_boresight + det_offset_y\n",
    "\n",
    "az_det = np.rad2deg(az_det)\n",
    "el_det = np.rad2deg(el_det)\n",
    "print(az_det, el_det)"
   ]
  },
  {
   "cell_type": "code",
   "execution_count": 20,
   "id": "2b4c3e6d",
   "metadata": {},
   "outputs": [
    {
     "name": "stdout",
     "output_type": "stream",
     "text": [
      "22.189167677318267 52.76786737159531\n"
     ]
    }
   ],
   "source": [
    "boresight_quat = qa.from_angles(\n",
    "    theta = np.pi/2 - el_boresight,\n",
    "    phi = -az_boresight,\n",
    "    pa = 0\n",
    ")\n",
    "\n",
    "zaxis = np.array([0, 0, 1], dtype=np.float64)\n",
    "\n",
    "wx = +det_offset_y\n",
    "wy = +det_offset_x\n",
    "wz = np.sqrt(1.0 - (wx * wx + wy * wy))\n",
    "wdir = np.array([wx, wy, wz])\n",
    "det_quat = qa.from_vectors(zaxis, wdir)\n",
    "total_quat = qa.mult(boresight_quat, det_quat)\n",
    "\n",
    "theta, phi, _ = qa.to_angles(total_quat)\n",
    "\n",
    "phi = np.rad2deg(phi)\n",
    "theta = np.rad2deg(theta)\n",
    "print(-phi+360, 90-theta)"
   ]
  },
  {
   "cell_type": "code",
   "execution_count": 21,
   "id": "dfef8eb4",
   "metadata": {},
   "outputs": [
    {
     "data": {
      "image/png": "[encoded data removed]",
      "text/plain": [
       "<Figure size 432x288 with 1 Axes>"
      ]
     },
     "metadata": {
      "needs_background": "light"
     },
     "output_type": "display_data"
    }
   ],
   "source": [
    "plt.plot(np.rad2deg(az_boresight), np.rad2deg(el_boresight), marker='o', label='boresight')\n",
    "plt.plot(az_det, el_det, marker='o', label='flat')\n",
    "plt.plot(-phi+360, 90-theta, marker='o', label='quat')\n",
    "plt.xlabel('Az (deg)')\n",
    "plt.ylabel('El (deg)')\n",
    "plt.legend()\n",
    "plt.grid()"
   ]
  },
  {
   "cell_type": "code",
   "execution_count": 14,
   "id": "450a3eb7",
   "metadata": {},
   "outputs": [
    {
     "name": "stdout",
     "output_type": "stream",
     "text": [
      "Errors in degrees -0.046285282826463714 -0.030645059389463825\n"
     ]
    }
   ],
   "source": [
    "print(\n",
    "    'Errors in degrees',\n",
    "    -phi+360 - az_det,\n",
    "    90-theta - el_det\n",
    ")"
   ]
  },
  {
   "cell_type": "code",
   "execution_count": null,
   "id": "c790550c",
   "metadata": {},
   "outputs": [],
   "source": []
  }
 ],
 "metadata": {
  "kernelspec": {
   "display_name": "Python 3 (ipykernel)",
   "language": "python",
   "name": "python3"
  },
  "language_info": {
   "codemirror_mode": {
    "name": "ipython",
    "version": 3
   },
   "file_extension": ".py",
   "mimetype": "text/x-python",
   "name": "python",
   "nbconvert_exporter": "python",
   "pygments_lexer": "ipython3",
   "version": "3.8.5"
  }
 },
 "nbformat": 4,
 "nbformat_minor": 5
}
